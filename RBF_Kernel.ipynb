{
  "nbformat": 4,
  "nbformat_minor": 0,
  "metadata": {
    "colab": {
      "name": "RBF_Kernel.ipynb",
      "provenance": [],
      "collapsed_sections": [],
      "mount_file_id": "1H-N_yqSb1Wk3oNpL1TPI87fksQhQYAJZ",
      "authorship_tag": "ABX9TyNt3yr1kuXMfIHYX9q+sHp/",
      "include_colab_link": true
    },
    "kernelspec": {
      "name": "python3",
      "display_name": "Python 3"
    },
    "language_info": {
      "name": "python"
    }
  },
  "cells": [
    {
      "cell_type": "markdown",
      "metadata": {
        "id": "view-in-github",
        "colab_type": "text"
      },
      "source": [
        "<a href=\"https://colab.research.google.com/github/omidkhalafbeigi/rbf_kernel/blob/main/RBF_Kernel.ipynb\" target=\"_parent\"><img src=\"https://colab.research.google.com/assets/colab-badge.svg\" alt=\"Open In Colab\"/></a>"
      ]
    },
    {
      "cell_type": "code",
      "metadata": {
        "id": "uc1uqmfKnABs"
      },
      "source": [
        "import numpy as np\n",
        "from matplotlib import pyplot as plt"
      ],
      "execution_count": null,
      "outputs": []
    },
    {
      "cell_type": "code",
      "metadata": {
        "id": "5WyUBdkzu8HU"
      },
      "source": [
        "def rbf(X, gamma=1):\n",
        "  mean = np.mean(X)\n",
        "  for index in range(X.shape[0]):\n",
        "    X[index] -= mean\n",
        "  X = (-gamma * np.power(X, 2))\n",
        "  return np.exp(X)"
      ],
      "execution_count": null,
      "outputs": []
    },
    {
      "cell_type": "code",
      "metadata": {
        "id": "2iEfscWJsIIy"
      },
      "source": [
        "dist = np.linspace(1, 101, num=50)"
      ],
      "execution_count": null,
      "outputs": []
    },
    {
      "cell_type": "code",
      "metadata": {
        "id": "W_vwD9n5tNG_",
        "colab": {
          "base_uri": "https://localhost:8080/"
        },
        "outputId": "27303a05-6315-432d-bd54-55ea4c22bd98"
      },
      "source": [
        "dist"
      ],
      "execution_count": null,
      "outputs": [
        {
          "output_type": "execute_result",
          "data": {
            "text/plain": [
              "array([  1.        ,   3.04081633,   5.08163265,   7.12244898,\n",
              "         9.16326531,  11.20408163,  13.24489796,  15.28571429,\n",
              "        17.32653061,  19.36734694,  21.40816327,  23.44897959,\n",
              "        25.48979592,  27.53061224,  29.57142857,  31.6122449 ,\n",
              "        33.65306122,  35.69387755,  37.73469388,  39.7755102 ,\n",
              "        41.81632653,  43.85714286,  45.89795918,  47.93877551,\n",
              "        49.97959184,  52.02040816,  54.06122449,  56.10204082,\n",
              "        58.14285714,  60.18367347,  62.2244898 ,  64.26530612,\n",
              "        66.30612245,  68.34693878,  70.3877551 ,  72.42857143,\n",
              "        74.46938776,  76.51020408,  78.55102041,  80.59183673,\n",
              "        82.63265306,  84.67346939,  86.71428571,  88.75510204,\n",
              "        90.79591837,  92.83673469,  94.87755102,  96.91836735,\n",
              "        98.95918367, 101.        ])"
            ]
          },
          "metadata": {
            "tags": []
          },
          "execution_count": 26
        }
      ]
    },
    {
      "cell_type": "code",
      "metadata": {
        "id": "4BTHrCvQwUoT"
      },
      "source": [
        "result = rbf(dist, gamma=0.001)"
      ],
      "execution_count": null,
      "outputs": []
    },
    {
      "cell_type": "code",
      "metadata": {
        "colab": {
          "base_uri": "https://localhost:8080/",
          "height": 265
        },
        "id": "KfiqNjJgwza4",
        "outputId": "473740c0-8b42-48b1-cf1f-b3f08450b2cb"
      },
      "source": [
        "plt.scatter(dist[:17], np.full((17,), 0.1), c='red')\n",
        "plt.scatter(dist[17:32], np.full((15,), 0.1), c='black')\n",
        "plt.scatter(dist[32:], np.full((18,), 0.1), c='red')\n",
        "plt.scatter(dist[:18], result[:18], c='red')\n",
        "plt.scatter(dist[17:32], result[17:32], c='black')\n",
        "plt.scatter(dist[31:], result[31:], c='red')\n",
        "plt.show()"
      ],
      "execution_count": null,
      "outputs": [
        {
          "output_type": "display_data",
          "data": {
            "image/png": "[encoded data removed]",
            "text/plain": [
              "<Figure size 432x288 with 1 Axes>"
            ]
          },
          "metadata": {
            "tags": [],
            "needs_background": "light"
          }
        }
      ]
    }
  ]
}